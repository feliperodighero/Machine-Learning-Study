{
  "nbformat": 4,
  "nbformat_minor": 0,
  "metadata": {
    "colab": {
      "provenance": [],
      "authorship_tag": "ABX9TyN/n1s6qBGkBersvs6m6+3j",
      "include_colab_link": true
    },
    "kernelspec": {
      "name": "python3",
      "display_name": "Python 3"
    },
    "language_info": {
      "name": "python"
    }
  },
  "cells": [
    {
      "cell_type": "markdown",
      "metadata": {
        "id": "view-in-github",
        "colab_type": "text"
      },
      "source": [
        "<a href=\"https://colab.research.google.com/github/feliperodighero/Machine-Learning-Study/blob/main/NaiveBayes.ipynb\" target=\"_parent\"><img src=\"https://colab.research.google.com/assets/colab-badge.svg\" alt=\"Open In Colab\"/></a>"
      ]
    },
    {
      "cell_type": "code",
      "execution_count": null,
      "metadata": {
        "id": "um_weK7bVMy_"
      },
      "outputs": [],
      "source": [
        "import pandas as pd\n",
        "from sklearn.model_selection import train_test_split\n",
        "from sklearn.naive_bayes import GaussianNB\n",
        "from sklearn.preprocessing import LabelEncoder\n",
        "from sklearn.metrics import accuracy_score, precision_score, recall_score, f1_score, classification_report\n",
        "from yellowbrick.classifier import ConfusionMatrix"
      ]
    },
    {
      "cell_type": "code",
      "source": [
        "df = pd.read_csv('insurance.csv')"
      ],
      "metadata": {
        "id": "bbgCJs7wZQmY"
      },
      "execution_count": null,
      "outputs": []
    },
    {
      "cell_type": "code",
      "source": [
        "df = df.dropna()"
      ],
      "metadata": {
        "id": "LDMIUdY2Zq8a"
      },
      "execution_count": null,
      "outputs": []
    },
    {
      "cell_type": "code",
      "source": [
        "df.drop(columns=['Unnamed: 0'], inplace=True)"
      ],
      "metadata": {
        "colab": {
          "base_uri": "https://localhost:8080/"
        },
        "id": "RTcbatPGZnFn",
        "outputId": "ff3ea8d1-900c-42cd-dbe6-604a0e78ebbe"
      },
      "execution_count": null,
      "outputs": [
        {
          "output_type": "stream",
          "name": "stderr",
          "text": [
            "<ipython-input-22-a0b5aa997b95>:1: SettingWithCopyWarning: \n",
            "A value is trying to be set on a copy of a slice from a DataFrame\n",
            "\n",
            "See the caveats in the documentation: https://pandas.pydata.org/pandas-docs/stable/user_guide/indexing.html#returning-a-view-versus-a-copy\n",
            "  df.drop(columns=['Unnamed: 0'], inplace=True)\n"
          ]
        }
      ]
    },
    {
      "cell_type": "code",
      "source": [
        "df.head()"
      ],
      "metadata": {
        "colab": {
          "base_uri": "https://localhost:8080/",
          "height": 256
        },
        "id": "ec3VMMYyZ5Cx",
        "outputId": "97f890bc-5fc1-421d-f16b-8c172a37fe1a"
      },
      "execution_count": null,
      "outputs": [
        {
          "output_type": "execute_result",
          "data": {
            "text/plain": [
              "   GoodStudent         Age    SocioEcon RiskAversion VehicleYear ThisCarDam  \\\n",
              "0        False       Adult        Prole  Adventurous       Older   Moderate   \n",
              "4        False  Adolescent        Prole       Normal       Older   Moderate   \n",
              "5        False       Adult  UpperMiddle       Normal     Current   Moderate   \n",
              "6        False      Senior  UpperMiddle       Normal     Current       Mild   \n",
              "7        False       Adult        Prole       Normal       Older     Severe   \n",
              "\n",
              "  RuggedAuto  Accident  MakeModel DrivQuality  ... HomeBase  AntiTheft  \\\n",
              "0   EggShell      Mild    Economy        Poor  ...     City      False   \n",
              "4   Football  Moderate    Economy        Poor  ...     City      False   \n",
              "5   EggShell  Moderate  SportsCar        Poor  ...   Suburb       True   \n",
              "6   Football      Mild    Economy        Poor  ...   Secure       True   \n",
              "7   EggShell    Severe    Economy        Poor  ...     City      False   \n",
              "\n",
              "      PropCost  OtherCarCost OtherCar   MedCost Cushioning Airbag   ILiCost  \\\n",
              "0      TenThou      Thousand     True  Thousand       Poor  False  Thousand   \n",
              "4      TenThou      Thousand    False  Thousand       Fair  False  Thousand   \n",
              "5  HundredThou   HundredThou     True   TenThou       Poor   True  Thousand   \n",
              "6      TenThou      Thousand    False  Thousand  Excellent   True  Thousand   \n",
              "7      Million   HundredThou     True  Thousand       Fair  False  Thousand   \n",
              "\n",
              "  DrivHist  \n",
              "0     Many  \n",
              "4     Many  \n",
              "5     Many  \n",
              "6     Many  \n",
              "7     Many  \n",
              "\n",
              "[5 rows x 27 columns]"
            ],
            "text/html": [
              "\n",
              "  <div id=\"df-ee5d0f7f-c3c9-4859-9d83-883139eab1a3\" class=\"colab-df-container\">\n",
              "    <div>\n",
              "<style scoped>\n",
              "    .dataframe tbody tr th:only-of-type {\n",
              "        vertical-align: middle;\n",
              "    }\n",
              "\n",
              "    .dataframe tbody tr th {\n",
              "        vertical-align: top;\n",
              "    }\n",
              "\n",
              "    .dataframe thead th {\n",
              "        text-align: right;\n",
              "    }\n",
              "</style>\n",
              "<table border=\"1\" class=\"dataframe\">\n",
              "  <thead>\n",
              "    <tr style=\"text-align: right;\">\n",
              "      <th></th>\n",
              "      <th>GoodStudent</th>\n",
              "      <th>Age</th>\n",
              "      <th>SocioEcon</th>\n",
              "      <th>RiskAversion</th>\n",
              "      <th>VehicleYear</th>\n",
              "      <th>ThisCarDam</th>\n",
              "      <th>RuggedAuto</th>\n",
              "      <th>Accident</th>\n",
              "      <th>MakeModel</th>\n",
              "      <th>DrivQuality</th>\n",
              "      <th>...</th>\n",
              "      <th>HomeBase</th>\n",
              "      <th>AntiTheft</th>\n",
              "      <th>PropCost</th>\n",
              "      <th>OtherCarCost</th>\n",
              "      <th>OtherCar</th>\n",
              "      <th>MedCost</th>\n",
              "      <th>Cushioning</th>\n",
              "      <th>Airbag</th>\n",
              "      <th>ILiCost</th>\n",
              "      <th>DrivHist</th>\n",
              "    </tr>\n",
              "  </thead>\n",
              "  <tbody>\n",
              "    <tr>\n",
              "      <th>0</th>\n",
              "      <td>False</td>\n",
              "      <td>Adult</td>\n",
              "      <td>Prole</td>\n",
              "      <td>Adventurous</td>\n",
              "      <td>Older</td>\n",
              "      <td>Moderate</td>\n",
              "      <td>EggShell</td>\n",
              "      <td>Mild</td>\n",
              "      <td>Economy</td>\n",
              "      <td>Poor</td>\n",
              "      <td>...</td>\n",
              "      <td>City</td>\n",
              "      <td>False</td>\n",
              "      <td>TenThou</td>\n",
              "      <td>Thousand</td>\n",
              "      <td>True</td>\n",
              "      <td>Thousand</td>\n",
              "      <td>Poor</td>\n",
              "      <td>False</td>\n",
              "      <td>Thousand</td>\n",
              "      <td>Many</td>\n",
              "    </tr>\n",
              "    <tr>\n",
              "      <th>4</th>\n",
              "      <td>False</td>\n",
              "      <td>Adolescent</td>\n",
              "      <td>Prole</td>\n",
              "      <td>Normal</td>\n",
              "      <td>Older</td>\n",
              "      <td>Moderate</td>\n",
              "      <td>Football</td>\n",
              "      <td>Moderate</td>\n",
              "      <td>Economy</td>\n",
              "      <td>Poor</td>\n",
              "      <td>...</td>\n",
              "      <td>City</td>\n",
              "      <td>False</td>\n",
              "      <td>TenThou</td>\n",
              "      <td>Thousand</td>\n",
              "      <td>False</td>\n",
              "      <td>Thousand</td>\n",
              "      <td>Fair</td>\n",
              "      <td>False</td>\n",
              "      <td>Thousand</td>\n",
              "      <td>Many</td>\n",
              "    </tr>\n",
              "    <tr>\n",
              "      <th>5</th>\n",
              "      <td>False</td>\n",
              "      <td>Adult</td>\n",
              "      <td>UpperMiddle</td>\n",
              "      <td>Normal</td>\n",
              "      <td>Current</td>\n",
              "      <td>Moderate</td>\n",
              "      <td>EggShell</td>\n",
              "      <td>Moderate</td>\n",
              "      <td>SportsCar</td>\n",
              "      <td>Poor</td>\n",
              "      <td>...</td>\n",
              "      <td>Suburb</td>\n",
              "      <td>True</td>\n",
              "      <td>HundredThou</td>\n",
              "      <td>HundredThou</td>\n",
              "      <td>True</td>\n",
              "      <td>TenThou</td>\n",
              "      <td>Poor</td>\n",
              "      <td>True</td>\n",
              "      <td>Thousand</td>\n",
              "      <td>Many</td>\n",
              "    </tr>\n",
              "    <tr>\n",
              "      <th>6</th>\n",
              "      <td>False</td>\n",
              "      <td>Senior</td>\n",
              "      <td>UpperMiddle</td>\n",
              "      <td>Normal</td>\n",
              "      <td>Current</td>\n",
              "      <td>Mild</td>\n",
              "      <td>Football</td>\n",
              "      <td>Mild</td>\n",
              "      <td>Economy</td>\n",
              "      <td>Poor</td>\n",
              "      <td>...</td>\n",
              "      <td>Secure</td>\n",
              "      <td>True</td>\n",
              "      <td>TenThou</td>\n",
              "      <td>Thousand</td>\n",
              "      <td>False</td>\n",
              "      <td>Thousand</td>\n",
              "      <td>Excellent</td>\n",
              "      <td>True</td>\n",
              "      <td>Thousand</td>\n",
              "      <td>Many</td>\n",
              "    </tr>\n",
              "    <tr>\n",
              "      <th>7</th>\n",
              "      <td>False</td>\n",
              "      <td>Adult</td>\n",
              "      <td>Prole</td>\n",
              "      <td>Normal</td>\n",
              "      <td>Older</td>\n",
              "      <td>Severe</td>\n",
              "      <td>EggShell</td>\n",
              "      <td>Severe</td>\n",
              "      <td>Economy</td>\n",
              "      <td>Poor</td>\n",
              "      <td>...</td>\n",
              "      <td>City</td>\n",
              "      <td>False</td>\n",
              "      <td>Million</td>\n",
              "      <td>HundredThou</td>\n",
              "      <td>True</td>\n",
              "      <td>Thousand</td>\n",
              "      <td>Fair</td>\n",
              "      <td>False</td>\n",
              "      <td>Thousand</td>\n",
              "      <td>Many</td>\n",
              "    </tr>\n",
              "  </tbody>\n",
              "</table>\n",
              "<p>5 rows × 27 columns</p>\n",
              "</div>\n",
              "    <div class=\"colab-df-buttons\">\n",
              "\n",
              "  <div class=\"colab-df-container\">\n",
              "    <button class=\"colab-df-convert\" onclick=\"convertToInteractive('df-ee5d0f7f-c3c9-4859-9d83-883139eab1a3')\"\n",
              "            title=\"Convert this dataframe to an interactive table.\"\n",
              "            style=\"display:none;\">\n",
              "\n",
              "  <svg xmlns=\"http://www.w3.org/2000/svg\" height=\"24px\" viewBox=\"0 -960 960 960\">\n",
              "    <path d=\"M120-120v-720h720v720H120Zm60-500h600v-160H180v160Zm220 220h160v-160H400v160Zm0 220h160v-160H400v160ZM180-400h160v-160H180v160Zm440 0h160v-160H620v160ZM180-180h160v-160H180v160Zm440 0h160v-160H620v160Z\"/>\n",
              "  </svg>\n",
              "    </button>\n",
              "\n",
              "  <style>\n",
              "    .colab-df-container {\n",
              "      display:flex;\n",
              "      gap: 12px;\n",
              "    }\n",
              "\n",
              "    .colab-df-convert {\n",
              "      background-color: #E8F0FE;\n",
              "      border: none;\n",
              "      border-radius: 50%;\n",
              "      cursor: pointer;\n",
              "      display: none;\n",
              "      fill: #1967D2;\n",
              "      height: 32px;\n",
              "      padding: 0 0 0 0;\n",
              "      width: 32px;\n",
              "    }\n",
              "\n",
              "    .colab-df-convert:hover {\n",
              "      background-color: #E2EBFA;\n",
              "      box-shadow: 0px 1px 2px rgba(60, 64, 67, 0.3), 0px 1px 3px 1px rgba(60, 64, 67, 0.15);\n",
              "      fill: #174EA6;\n",
              "    }\n",
              "\n",
              "    .colab-df-buttons div {\n",
              "      margin-bottom: 4px;\n",
              "    }\n",
              "\n",
              "    [theme=dark] .colab-df-convert {\n",
              "      background-color: #3B4455;\n",
              "      fill: #D2E3FC;\n",
              "    }\n",
              "\n",
              "    [theme=dark] .colab-df-convert:hover {\n",
              "      background-color: #434B5C;\n",
              "      box-shadow: 0px 1px 3px 1px rgba(0, 0, 0, 0.15);\n",
              "      filter: drop-shadow(0px 1px 2px rgba(0, 0, 0, 0.3));\n",
              "      fill: #FFFFFF;\n",
              "    }\n",
              "  </style>\n",
              "\n",
              "    <script>\n",
              "      const buttonEl =\n",
              "        document.querySelector('#df-ee5d0f7f-c3c9-4859-9d83-883139eab1a3 button.colab-df-convert');\n",
              "      buttonEl.style.display =\n",
              "        google.colab.kernel.accessAllowed ? 'block' : 'none';\n",
              "\n",
              "      async function convertToInteractive(key) {\n",
              "        const element = document.querySelector('#df-ee5d0f7f-c3c9-4859-9d83-883139eab1a3');\n",
              "        const dataTable =\n",
              "          await google.colab.kernel.invokeFunction('convertToInteractive',\n",
              "                                                    [key], {});\n",
              "        if (!dataTable) return;\n",
              "\n",
              "        const docLinkHtml = 'Like what you see? Visit the ' +\n",
              "          '<a target=\"_blank\" href=https://colab.research.google.com/notebooks/data_table.ipynb>data table notebook</a>'\n",
              "          + ' to learn more about interactive tables.';\n",
              "        element.innerHTML = '';\n",
              "        dataTable['output_type'] = 'display_data';\n",
              "        await google.colab.output.renderOutput(dataTable, element);\n",
              "        const docLink = document.createElement('div');\n",
              "        docLink.innerHTML = docLinkHtml;\n",
              "        element.appendChild(docLink);\n",
              "      }\n",
              "    </script>\n",
              "  </div>\n",
              "\n",
              "\n",
              "<div id=\"df-5f920fe0-bd90-4fad-b311-0b6cf1aa80f6\">\n",
              "  <button class=\"colab-df-quickchart\" onclick=\"quickchart('df-5f920fe0-bd90-4fad-b311-0b6cf1aa80f6')\"\n",
              "            title=\"Suggest charts\"\n",
              "            style=\"display:none;\">\n",
              "\n",
              "<svg xmlns=\"http://www.w3.org/2000/svg\" height=\"24px\"viewBox=\"0 0 24 24\"\n",
              "     width=\"24px\">\n",
              "    <g>\n",
              "        <path d=\"M19 3H5c-1.1 0-2 .9-2 2v14c0 1.1.9 2 2 2h14c1.1 0 2-.9 2-2V5c0-1.1-.9-2-2-2zM9 17H7v-7h2v7zm4 0h-2V7h2v10zm4 0h-2v-4h2v4z\"/>\n",
              "    </g>\n",
              "</svg>\n",
              "  </button>\n",
              "\n",
              "<style>\n",
              "  .colab-df-quickchart {\n",
              "      --bg-color: #E8F0FE;\n",
              "      --fill-color: #1967D2;\n",
              "      --hover-bg-color: #E2EBFA;\n",
              "      --hover-fill-color: #174EA6;\n",
              "      --disabled-fill-color: #AAA;\n",
              "      --disabled-bg-color: #DDD;\n",
              "  }\n",
              "\n",
              "  [theme=dark] .colab-df-quickchart {\n",
              "      --bg-color: #3B4455;\n",
              "      --fill-color: #D2E3FC;\n",
              "      --hover-bg-color: #434B5C;\n",
              "      --hover-fill-color: #FFFFFF;\n",
              "      --disabled-bg-color: #3B4455;\n",
              "      --disabled-fill-color: #666;\n",
              "  }\n",
              "\n",
              "  .colab-df-quickchart {\n",
              "    background-color: var(--bg-color);\n",
              "    border: none;\n",
              "    border-radius: 50%;\n",
              "    cursor: pointer;\n",
              "    display: none;\n",
              "    fill: var(--fill-color);\n",
              "    height: 32px;\n",
              "    padding: 0;\n",
              "    width: 32px;\n",
              "  }\n",
              "\n",
              "  .colab-df-quickchart:hover {\n",
              "    background-color: var(--hover-bg-color);\n",
              "    box-shadow: 0 1px 2px rgba(60, 64, 67, 0.3), 0 1px 3px 1px rgba(60, 64, 67, 0.15);\n",
              "    fill: var(--button-hover-fill-color);\n",
              "  }\n",
              "\n",
              "  .colab-df-quickchart-complete:disabled,\n",
              "  .colab-df-quickchart-complete:disabled:hover {\n",
              "    background-color: var(--disabled-bg-color);\n",
              "    fill: var(--disabled-fill-color);\n",
              "    box-shadow: none;\n",
              "  }\n",
              "\n",
              "  .colab-df-spinner {\n",
              "    border: 2px solid var(--fill-color);\n",
              "    border-color: transparent;\n",
              "    border-bottom-color: var(--fill-color);\n",
              "    animation:\n",
              "      spin 1s steps(1) infinite;\n",
              "  }\n",
              "\n",
              "  @keyframes spin {\n",
              "    0% {\n",
              "      border-color: transparent;\n",
              "      border-bottom-color: var(--fill-color);\n",
              "      border-left-color: var(--fill-color);\n",
              "    }\n",
              "    20% {\n",
              "      border-color: transparent;\n",
              "      border-left-color: var(--fill-color);\n",
              "      border-top-color: var(--fill-color);\n",
              "    }\n",
              "    30% {\n",
              "      border-color: transparent;\n",
              "      border-left-color: var(--fill-color);\n",
              "      border-top-color: var(--fill-color);\n",
              "      border-right-color: var(--fill-color);\n",
              "    }\n",
              "    40% {\n",
              "      border-color: transparent;\n",
              "      border-right-color: var(--fill-color);\n",
              "      border-top-color: var(--fill-color);\n",
              "    }\n",
              "    60% {\n",
              "      border-color: transparent;\n",
              "      border-right-color: var(--fill-color);\n",
              "    }\n",
              "    80% {\n",
              "      border-color: transparent;\n",
              "      border-right-color: var(--fill-color);\n",
              "      border-bottom-color: var(--fill-color);\n",
              "    }\n",
              "    90% {\n",
              "      border-color: transparent;\n",
              "      border-bottom-color: var(--fill-color);\n",
              "    }\n",
              "  }\n",
              "</style>\n",
              "\n",
              "  <script>\n",
              "    async function quickchart(key) {\n",
              "      const quickchartButtonEl =\n",
              "        document.querySelector('#' + key + ' button');\n",
              "      quickchartButtonEl.disabled = true;  // To prevent multiple clicks.\n",
              "      quickchartButtonEl.classList.add('colab-df-spinner');\n",
              "      try {\n",
              "        const charts = await google.colab.kernel.invokeFunction(\n",
              "            'suggestCharts', [key], {});\n",
              "      } catch (error) {\n",
              "        console.error('Error during call to suggestCharts:', error);\n",
              "      }\n",
              "      quickchartButtonEl.classList.remove('colab-df-spinner');\n",
              "      quickchartButtonEl.classList.add('colab-df-quickchart-complete');\n",
              "    }\n",
              "    (() => {\n",
              "      let quickchartButtonEl =\n",
              "        document.querySelector('#df-5f920fe0-bd90-4fad-b311-0b6cf1aa80f6 button');\n",
              "      quickchartButtonEl.style.display =\n",
              "        google.colab.kernel.accessAllowed ? 'block' : 'none';\n",
              "    })();\n",
              "  </script>\n",
              "</div>\n",
              "\n",
              "    </div>\n",
              "  </div>\n"
            ],
            "application/vnd.google.colaboratory.intrinsic+json": {
              "type": "dataframe",
              "variable_name": "df"
            }
          },
          "metadata": {},
          "execution_count": 23
        }
      ]
    },
    {
      "cell_type": "code",
      "source": [
        "X = df.iloc[:, [0, 1, 2, 3, 4, 5, 6, 8, 9, 10, 11, 12, 13, 14, 15, 16, 17, 18, 19, 20, 21, 22, 23, 24, 25, 26]].values\n",
        "y = df.iloc[:, 7].values"
      ],
      "metadata": {
        "id": "qASpjFSEZ6Ao"
      },
      "execution_count": null,
      "outputs": []
    },
    {
      "cell_type": "code",
      "source": [
        "X, y"
      ],
      "metadata": {
        "colab": {
          "base_uri": "https://localhost:8080/"
        },
        "id": "FHT4aDOlasXQ",
        "outputId": "72bd5ea9-912f-4a4f-838e-6c0234972686"
      },
      "execution_count": null,
      "outputs": [
        {
          "output_type": "execute_result",
          "data": {
            "text/plain": [
              "(array([[False, 'Adult', 'Prole', ..., False, 'Thousand', 'Many'],\n",
              "        [False, 'Adolescent', 'Prole', ..., False, 'Thousand', 'Many'],\n",
              "        [False, 'Adult', 'UpperMiddle', ..., True, 'Thousand', 'Many'],\n",
              "        ...,\n",
              "        [False, 'Adult', 'Prole', ..., True, 'Thousand', 'Many'],\n",
              "        [False, 'Adult', 'UpperMiddle', ..., False, 'Thousand', 'Many'],\n",
              "        [False, 'Adult', 'Prole', ..., False, 'Thousand', 'Many']],\n",
              "       dtype=object),\n",
              " array(['Mild', 'Moderate', 'Moderate', ..., 'Mild', 'Mild', 'Mild'],\n",
              "       dtype=object))"
            ]
          },
          "metadata": {},
          "execution_count": 25
        }
      ]
    },
    {
      "cell_type": "code",
      "source": [
        "labelencoder = LabelEncoder()"
      ],
      "metadata": {
        "id": "a5s1DKRTatVg"
      },
      "execution_count": null,
      "outputs": []
    },
    {
      "cell_type": "code",
      "source": [
        "for i in range(X.shape[1]):\n",
        "    if X[:, i].dtype == 'object':\n",
        "        X[:, i] = labelencoder.fit_transform(X[:, i])"
      ],
      "metadata": {
        "id": "cTs0uzqKbGd5"
      },
      "execution_count": null,
      "outputs": []
    },
    {
      "cell_type": "code",
      "source": [
        "X"
      ],
      "metadata": {
        "colab": {
          "base_uri": "https://localhost:8080/"
        },
        "id": "EpbF6TrtbcXw",
        "outputId": "a1b86a11-ad53-4f21-d67c-781c829aece7"
      },
      "execution_count": null,
      "outputs": [
        {
          "output_type": "execute_result",
          "data": {
            "text/plain": [
              "array([[0, 1, 1, ..., 0, 3, 0],\n",
              "       [0, 0, 1, ..., 0, 3, 0],\n",
              "       [0, 1, 2, ..., 1, 3, 0],\n",
              "       ...,\n",
              "       [0, 1, 1, ..., 1, 3, 0],\n",
              "       [0, 1, 2, ..., 0, 3, 0],\n",
              "       [0, 1, 1, ..., 0, 3, 0]], dtype=object)"
            ]
          },
          "metadata": {},
          "execution_count": 28
        }
      ]
    },
    {
      "cell_type": "code",
      "source": [
        "X_treinamento, X_teste, y_treinamento, y_teste = train_test_split(X, y, test_size=0.3, random_state=1)"
      ],
      "metadata": {
        "id": "QXSC2TSwbffA"
      },
      "execution_count": null,
      "outputs": []
    },
    {
      "cell_type": "code",
      "source": [
        "modelo = GaussianNB()\n",
        "modelo.fit(X_treinamento, y_treinamento)"
      ],
      "metadata": {
        "colab": {
          "base_uri": "https://localhost:8080/",
          "height": 75
        },
        "id": "JZg_7Oujb5dX",
        "outputId": "8882a31c-8d23-433a-c454-664489fe59e6"
      },
      "execution_count": null,
      "outputs": [
        {
          "output_type": "execute_result",
          "data": {
            "text/plain": [
              "GaussianNB()"
            ],
            "text/html": [
              "<style>#sk-container-id-1 {color: black;}#sk-container-id-1 pre{padding: 0;}#sk-container-id-1 div.sk-toggleable {background-color: white;}#sk-container-id-1 label.sk-toggleable__label {cursor: pointer;display: block;width: 100%;margin-bottom: 0;padding: 0.3em;box-sizing: border-box;text-align: center;}#sk-container-id-1 label.sk-toggleable__label-arrow:before {content: \"▸\";float: left;margin-right: 0.25em;color: #696969;}#sk-container-id-1 label.sk-toggleable__label-arrow:hover:before {color: black;}#sk-container-id-1 div.sk-estimator:hover label.sk-toggleable__label-arrow:before {color: black;}#sk-container-id-1 div.sk-toggleable__content {max-height: 0;max-width: 0;overflow: hidden;text-align: left;background-color: #f0f8ff;}#sk-container-id-1 div.sk-toggleable__content pre {margin: 0.2em;color: black;border-radius: 0.25em;background-color: #f0f8ff;}#sk-container-id-1 input.sk-toggleable__control:checked~div.sk-toggleable__content {max-height: 200px;max-width: 100%;overflow: auto;}#sk-container-id-1 input.sk-toggleable__control:checked~label.sk-toggleable__label-arrow:before {content: \"▾\";}#sk-container-id-1 div.sk-estimator input.sk-toggleable__control:checked~label.sk-toggleable__label {background-color: #d4ebff;}#sk-container-id-1 div.sk-label input.sk-toggleable__control:checked~label.sk-toggleable__label {background-color: #d4ebff;}#sk-container-id-1 input.sk-hidden--visually {border: 0;clip: rect(1px 1px 1px 1px);clip: rect(1px, 1px, 1px, 1px);height: 1px;margin: -1px;overflow: hidden;padding: 0;position: absolute;width: 1px;}#sk-container-id-1 div.sk-estimator {font-family: monospace;background-color: #f0f8ff;border: 1px dotted black;border-radius: 0.25em;box-sizing: border-box;margin-bottom: 0.5em;}#sk-container-id-1 div.sk-estimator:hover {background-color: #d4ebff;}#sk-container-id-1 div.sk-parallel-item::after {content: \"\";width: 100%;border-bottom: 1px solid gray;flex-grow: 1;}#sk-container-id-1 div.sk-label:hover label.sk-toggleable__label {background-color: #d4ebff;}#sk-container-id-1 div.sk-serial::before {content: \"\";position: absolute;border-left: 1px solid gray;box-sizing: border-box;top: 0;bottom: 0;left: 50%;z-index: 0;}#sk-container-id-1 div.sk-serial {display: flex;flex-direction: column;align-items: center;background-color: white;padding-right: 0.2em;padding-left: 0.2em;position: relative;}#sk-container-id-1 div.sk-item {position: relative;z-index: 1;}#sk-container-id-1 div.sk-parallel {display: flex;align-items: stretch;justify-content: center;background-color: white;position: relative;}#sk-container-id-1 div.sk-item::before, #sk-container-id-1 div.sk-parallel-item::before {content: \"\";position: absolute;border-left: 1px solid gray;box-sizing: border-box;top: 0;bottom: 0;left: 50%;z-index: -1;}#sk-container-id-1 div.sk-parallel-item {display: flex;flex-direction: column;z-index: 1;position: relative;background-color: white;}#sk-container-id-1 div.sk-parallel-item:first-child::after {align-self: flex-end;width: 50%;}#sk-container-id-1 div.sk-parallel-item:last-child::after {align-self: flex-start;width: 50%;}#sk-container-id-1 div.sk-parallel-item:only-child::after {width: 0;}#sk-container-id-1 div.sk-dashed-wrapped {border: 1px dashed gray;margin: 0 0.4em 0.5em 0.4em;box-sizing: border-box;padding-bottom: 0.4em;background-color: white;}#sk-container-id-1 div.sk-label label {font-family: monospace;font-weight: bold;display: inline-block;line-height: 1.2em;}#sk-container-id-1 div.sk-label-container {text-align: center;}#sk-container-id-1 div.sk-container {/* jupyter's `normalize.less` sets `[hidden] { display: none; }` but bootstrap.min.css set `[hidden] { display: none !important; }` so we also need the `!important` here to be able to override the default hidden behavior on the sphinx rendered scikit-learn.org. See: https://github.com/scikit-learn/scikit-learn/issues/21755 */display: inline-block !important;position: relative;}#sk-container-id-1 div.sk-text-repr-fallback {display: none;}</style><div id=\"sk-container-id-1\" class=\"sk-top-container\"><div class=\"sk-text-repr-fallback\"><pre>GaussianNB()</pre><b>In a Jupyter environment, please rerun this cell to show the HTML representation or trust the notebook. <br />On GitHub, the HTML representation is unable to render, please try loading this page with nbviewer.org.</b></div><div class=\"sk-container\" hidden><div class=\"sk-item\"><div class=\"sk-estimator sk-toggleable\"><input class=\"sk-toggleable__control sk-hidden--visually\" id=\"sk-estimator-id-1\" type=\"checkbox\" checked><label for=\"sk-estimator-id-1\" class=\"sk-toggleable__label sk-toggleable__label-arrow\">GaussianNB</label><div class=\"sk-toggleable__content\"><pre>GaussianNB()</pre></div></div></div></div></div>"
            ]
          },
          "metadata": {},
          "execution_count": 30
        }
      ]
    },
    {
      "cell_type": "code",
      "source": [
        "previsoes = modelo.predict(X_teste)"
      ],
      "metadata": {
        "id": "4XFiQ4fQcLEP"
      },
      "execution_count": null,
      "outputs": []
    },
    {
      "cell_type": "code",
      "source": [
        "previsoes"
      ],
      "metadata": {
        "colab": {
          "base_uri": "https://localhost:8080/"
        },
        "id": "TD3yv7hfchRx",
        "outputId": "53409d8a-eaf7-4b39-b82f-abc510c88156"
      },
      "execution_count": null,
      "outputs": [
        {
          "output_type": "execute_result",
          "data": {
            "text/plain": [
              "array(['Moderate', 'Moderate', 'Mild', ..., 'Severe', 'Moderate',\n",
              "       'Moderate'], dtype='<U8')"
            ]
          },
          "metadata": {},
          "execution_count": 32
        }
      ]
    },
    {
      "cell_type": "code",
      "source": [
        "accuracy = accuracy_score(y_teste, previsoes)\n",
        "precision = precision_score(y_teste, previsoes, average=None)\n",
        "recall = recall_score(y_teste, previsoes, average='weighted')\n",
        "f1 = f1_score(y_teste, previsoes, average='weighted')"
      ],
      "metadata": {
        "id": "5wRKS6viclp3"
      },
      "execution_count": null,
      "outputs": []
    },
    {
      "cell_type": "code",
      "source": [
        "print(f'Acurácia: {accuracy}')\n",
        "print(f'Precisão: {precision}')\n",
        "print(f'Recall: {recall}')\n",
        "print(f'F1-Score: {f1}')"
      ],
      "metadata": {
        "colab": {
          "base_uri": "https://localhost:8080/"
        },
        "id": "74P3iRttcxiw",
        "outputId": "25193aaa-e4cd-4907-8271-08d3c922a077"
      },
      "execution_count": null,
      "outputs": [
        {
          "output_type": "stream",
          "name": "stdout",
          "text": [
            "Acurácia: 0.5507518796992481\n",
            "Precisão: [0.94587629 0.40598291 0.97368421]\n",
            "Recall: 0.5507518796992481\n",
            "F1-Score: 0.4612364968688108\n"
          ]
        }
      ]
    },
    {
      "cell_type": "code",
      "source": [
        "report = classification_report(y_teste, previsoes)\n",
        "print(report)"
      ],
      "metadata": {
        "colab": {
          "base_uri": "https://localhost:8080/"
        },
        "id": "Kfn1G_KKcygw",
        "outputId": "8b89a0a8-2f61-45b5-e808-02bba21b452e"
      },
      "execution_count": null,
      "outputs": [
        {
          "output_type": "stream",
          "name": "stdout",
          "text": [
            "              precision    recall  f1-score   support\n",
            "\n",
            "        Mild       0.95      0.87      0.91       423\n",
            "    Moderate       0.41      0.96      0.57       497\n",
            "      Severe       0.97      0.05      0.10       676\n",
            "\n",
            "    accuracy                           0.55      1596\n",
            "   macro avg       0.78      0.63      0.53      1596\n",
            "weighted avg       0.79      0.55      0.46      1596\n",
            "\n"
          ]
        }
      ]
    },
    {
      "cell_type": "code",
      "source": [
        "confusao = ConfusionMatrix(modelo)\n",
        "confusao.fit(X_treinamento, y_treinamento)\n",
        "confusao.score(X_teste, y_teste)\n",
        "confusao.show()"
      ],
      "metadata": {
        "colab": {
          "base_uri": "https://localhost:8080/",
          "height": 568
        },
        "id": "lSXdE5jJdCSY",
        "outputId": "c9af79dc-2ab3-4778-c72b-5884b7d94de0"
      },
      "execution_count": null,
      "outputs": [
        {
          "output_type": "display_data",
          "data": {
            "text/plain": [
              "<Figure size 800x550 with 1 Axes>"
            ],
            "image/png": "[encoded data removed]"
          },
          "metadata": {}
        },
        {
          "output_type": "execute_result",
          "data": {
            "text/plain": [
              "<Axes: title={'center': 'GaussianNB Confusion Matrix'}, xlabel='Predicted Class', ylabel='True Class'>"
            ]
          },
          "metadata": {},
          "execution_count": 38
        }
      ]
    },
    {
      "cell_type": "code",
      "source": [],
      "metadata": {
        "id": "ADKr4ipDdOlY"
      },
      "execution_count": null,
      "outputs": []
    }
  ]
}