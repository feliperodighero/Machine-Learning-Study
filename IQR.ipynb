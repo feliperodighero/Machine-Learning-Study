{
  "nbformat": 4,
  "nbformat_minor": 0,
  "metadata": {
    "colab": {
      "provenance": [],
      "authorship_tag": "ABX9TyOQHmGqQNNoCotnWVdX7Xl0",
      "include_colab_link": true
    },
    "kernelspec": {
      "name": "python3",
      "display_name": "Python 3"
    },
    "language_info": {
      "name": "python"
    }
  },
  "cells": [
    {
      "cell_type": "markdown",
      "metadata": {
        "id": "view-in-github",
        "colab_type": "text"
      },
      "source": [
        "<a href=\"https://colab.research.google.com/github/feliperodighero/Machine-Learning-Study/blob/main/IQR.ipynb\" target=\"_parent\"><img src=\"https://colab.research.google.com/assets/colab-badge.svg\" alt=\"Open In Colab\"/></a>"
      ]
    },
    {
      "cell_type": "code",
      "execution_count": 1,
      "metadata": {
        "id": "FY-Hnigy4fQA"
      },
      "outputs": [],
      "source": [
        "import numpy as np"
      ]
    },
    {
      "cell_type": "code",
      "source": [
        "dataset = [1, 2, 3, 4, 5, 6, 7, 8, 9, 100]"
      ],
      "metadata": {
        "id": "9gANDWtK4zO_"
      },
      "execution_count": 2,
      "outputs": []
    },
    {
      "cell_type": "code",
      "source": [
        "quartil_1 = np.percentile(dataset, 25)\n",
        "quartil_3 = np.percentile(dataset, 75)\n",
        "iqr = quartil_3 - quartil_1\n",
        "limite_inferior = quartil_1 - 1.5 * iqr\n",
        "limite_superior = quartil_3 + 1.5 * iqr"
      ],
      "metadata": {
        "id": "roM4gQRQ42x3"
      },
      "execution_count": 3,
      "outputs": []
    },
    {
      "cell_type": "code",
      "source": [
        "print(f'Quartil 1: {quartil_1}')\n",
        "print(f'Quartil 3: {quartil_3}')\n",
        "print(f'IQR: {iqr}')\n",
        "print(f'Limite Inferior: {limite_inferior}')\n",
        "print(f'Limite Superior: {limite_superior}')"
      ],
      "metadata": {
        "colab": {
          "base_uri": "https://localhost:8080/"
        },
        "id": "7a3JnsyD5Q53",
        "outputId": "ae6a73b2-1309-4799-e438-9210759fdaa9"
      },
      "execution_count": 4,
      "outputs": [
        {
          "output_type": "stream",
          "name": "stdout",
          "text": [
            "Quartil 1: 3.25\n",
            "Quartil 3: 7.75\n",
            "IQR: 4.5\n",
            "Limite Inferior: -3.5\n",
            "Limite Superior: 14.5\n"
          ]
        }
      ]
    },
    {
      "cell_type": "code",
      "source": [
        "outliers = []\n",
        "for value in dataset:\n",
        "    if value < limite_inferior or value > limite_superior:\n",
        "        outliers.append(value)"
      ],
      "metadata": {
        "id": "I1bCRZuy5UYX"
      },
      "execution_count": 6,
      "outputs": []
    },
    {
      "cell_type": "code",
      "source": [
        "print(f'Outliers: {outliers}')"
      ],
      "metadata": {
        "colab": {
          "base_uri": "https://localhost:8080/"
        },
        "id": "_Dmqxi455d6u",
        "outputId": "e4e111cf-00dc-4fbf-b9db-570a0c3853ef"
      },
      "execution_count": 7,
      "outputs": [
        {
          "output_type": "stream",
          "name": "stdout",
          "text": [
            "Outliers: [100]\n"
          ]
        }
      ]
    },
    {
      "cell_type": "code",
      "source": [],
      "metadata": {
        "id": "nxCba3AI5ka-"
      },
      "execution_count": null,
      "outputs": []
    }
  ]
}