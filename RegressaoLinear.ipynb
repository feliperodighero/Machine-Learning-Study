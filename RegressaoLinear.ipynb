{
  "nbformat": 4,
  "nbformat_minor": 0,
  "metadata": {
    "colab": {
      "provenance": [],
      "authorship_tag": "ABX9TyPhH0fY/GdIkhzsatpQdLyT",
      "include_colab_link": true
    },
    "kernelspec": {
      "name": "python3",
      "display_name": "Python 3"
    },
    "language_info": {
      "name": "python"
    }
  },
  "cells": [
    {
      "cell_type": "markdown",
      "metadata": {
        "id": "view-in-github",
        "colab_type": "text"
      },
      "source": [
        "<a href=\"https://colab.research.google.com/github/feliperodighero/Machine-Learning-Study/blob/main/RegressaoLinear.ipynb\" target=\"_parent\"><img src=\"https://colab.research.google.com/assets/colab-badge.svg\" alt=\"Open In Colab\"/></a>"
      ]
    },
    {
      "cell_type": "code",
      "source": [
        "from numpy import *"
      ],
      "metadata": {
        "id": "Qw5dk62-DhWP"
      },
      "execution_count": 1,
      "outputs": []
    },
    {
      "cell_type": "code",
      "source": [
        "class LinearRegression:\n",
        "    def __init__(self, x, y):\n",
        "        self.x = x\n",
        "        self.y = y\n",
        "        self.__correlation_coefficient = self.__correlacao()\n",
        "        self.__inclination = self.__inclinacao()\n",
        "        self.__intercept = self.__interceptacao()\n",
        "\n",
        "    def __correlacao(self):\n",
        "        covariacao = cov(self.x, self.y, bias=True)[0][1]\n",
        "        variancia_x = var(self.x)\n",
        "        variancia_y = var(self.y)\n",
        "        return covariacao / sqrt(variancia_x * variancia_y)\n",
        "\n",
        "    def __inclinacao(self):\n",
        "        std_x = std(self.x)\n",
        "        std_y = std(self.y)\n",
        "        return self.__correlation_coefficient * (std_y / std_x)\n",
        "\n",
        "    def __interceptacao(self):\n",
        "        mean_x = mean(self.x)\n",
        "        mean_y = mean(self.y)\n",
        "        return mean_y - (self.__inclination * mean_x)\n",
        "\n",
        "    def previsao(self, valor):\n",
        "        return self.__intercept + (self.__inclination * valor)"
      ],
      "metadata": {
        "id": "-iSvVf1cEAW3"
      },
      "execution_count": 4,
      "outputs": []
    },
    {
      "cell_type": "code",
      "source": [
        "x = array([1, 2, 3, 4, 5])\n",
        "y = array([2, 4, 6, 8, 10])\n",
        "\n",
        "lr = LinearRegression(x, y)\n",
        "previsao = lr.previsao(6)\n",
        "\n",
        "print(previsao)"
      ],
      "metadata": {
        "colab": {
          "base_uri": "https://localhost:8080/"
        },
        "id": "MQ67fSnFGcFt",
        "outputId": "a0480c07-6925-4fa3-f9af-4e4b31682927"
      },
      "execution_count": 5,
      "outputs": [
        {
          "output_type": "stream",
          "name": "stdout",
          "text": [
            "12.0\n"
          ]
        }
      ]
    }
  ]
}