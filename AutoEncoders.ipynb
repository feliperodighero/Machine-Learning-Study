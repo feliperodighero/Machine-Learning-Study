{
  "nbformat": 4,
  "nbformat_minor": 0,
  "metadata": {
    "colab": {
      "provenance": [],
      "authorship_tag": "ABX9TyNtR+5c72bABFhoGHxant0a",
      "include_colab_link": true
    },
    "kernelspec": {
      "name": "python3",
      "display_name": "Python 3"
    },
    "language_info": {
      "name": "python"
    }
  },
  "cells": [
    {
      "cell_type": "markdown",
      "metadata": {
        "id": "view-in-github",
        "colab_type": "text"
      },
      "source": [
        "<a href=\"https://colab.research.google.com/github/feliperodighero/Machine-Learning-Study/blob/main/AutoEncoders.ipynb\" target=\"_parent\"><img src=\"https://colab.research.google.com/assets/colab-badge.svg\" alt=\"Open In Colab\"/></a>"
      ]
    },
    {
      "cell_type": "code",
      "execution_count": 6,
      "metadata": {
        "id": "4rLwsECU9u_f"
      },
      "outputs": [],
      "source": [
        "import matplotlib.pyplot as plt\n",
        "import numpy as np\n",
        "\n",
        "from keras.datasets import mnist\n",
        "from keras.models import Sequential, Model\n",
        "from keras.layers import Dense, Input\n",
        "from sklearn.metrics import mean_squared_error"
      ]
    },
    {
      "cell_type": "code",
      "source": [
        "(X_train, y_train), (X_test, y_test) = mnist.load_data()"
      ],
      "metadata": {
        "colab": {
          "base_uri": "https://localhost:8080/"
        },
        "id": "ydHWMi2x_PWv",
        "outputId": "0536cafc-504d-40ab-99d1-952c21364e6e"
      },
      "execution_count": 2,
      "outputs": [
        {
          "output_type": "stream",
          "name": "stdout",
          "text": [
            "Downloading data from https://storage.googleapis.com/tensorflow/tf-keras-datasets/mnist.npz\n",
            "11490434/11490434 [==============================] - 0s 0us/step\n"
          ]
        }
      ]
    },
    {
      "cell_type": "code",
      "source": [
        "X_train = X_train.astype('float32') / 255\n",
        "X_test = X_test.astype('float32') / 255"
      ],
      "metadata": {
        "id": "99C0n4Fk_ZYO"
      },
      "execution_count": 3,
      "outputs": []
    },
    {
      "cell_type": "code",
      "source": [
        "X_train = X_train.reshape((len(X_train), np.prod(X_train.shape[1:])))\n",
        "X_test = X_test.reshape((len(X_test), np.prod(X_test.shape[1:])))"
      ],
      "metadata": {
        "id": "sl58Eek0_pOH"
      },
      "execution_count": 4,
      "outputs": []
    },
    {
      "cell_type": "code",
      "source": [
        "X_test_noisy = X_test + 0.5 * np.random.normal(loc=0.0, scale=1.0, size=X_test.shape)\n",
        "X_test_noisy = np.clip(X_test_noisy, 0., 1.)"
      ],
      "metadata": {
        "id": "tIOhA0jp_3J9"
      },
      "execution_count": 5,
      "outputs": []
    },
    {
      "cell_type": "code",
      "source": [
        "inputs = Input(shape=(784,))\n",
        "encoded = Dense(32, activation='relu')(inputs)\n",
        "decoded = Dense(784, activation='sigmoid')(encoded)\n",
        "autoencoder = Model(inputs, decoded)\n",
        "autoencoder.compile(optimizer='adam', loss='binary_crossentropy')\n",
        "autoencoder.fit(X_train, X_train, epochs=100, batch_size=256, shuffle=True)"
      ],
      "metadata": {
        "colab": {
          "base_uri": "https://localhost:8080/"
        },
        "id": "8VP7nNm-AQTH",
        "outputId": "14244547-3ada-4bd4-e825-f4c861c14f1d"
      },
      "execution_count": 7,
      "outputs": [
        {
          "output_type": "stream",
          "name": "stdout",
          "text": [
            "Epoch 1/100\n",
            "235/235 [==============================] - 3s 10ms/step - loss: 0.2793\n",
            "Epoch 2/100\n",
            "235/235 [==============================] - 2s 10ms/step - loss: 0.1715\n",
            "Epoch 3/100\n",
            "235/235 [==============================] - 2s 10ms/step - loss: 0.1447\n",
            "Epoch 4/100\n",
            "235/235 [==============================] - 3s 14ms/step - loss: 0.1289\n",
            "Epoch 5/100\n",
            "235/235 [==============================] - 3s 11ms/step - loss: 0.1187\n",
            "Epoch 6/100\n",
            "235/235 [==============================] - 3s 11ms/step - loss: 0.1117\n",
            "Epoch 7/100\n",
            "235/235 [==============================] - 2s 10ms/step - loss: 0.1068\n",
            "Epoch 8/100\n",
            "235/235 [==============================] - 2s 10ms/step - loss: 0.1032\n",
            "Epoch 9/100\n",
            "235/235 [==============================] - 3s 12ms/step - loss: 0.1004\n",
            "Epoch 10/100\n",
            "235/235 [==============================] - 3s 13ms/step - loss: 0.0984\n",
            "Epoch 11/100\n",
            "235/235 [==============================] - 2s 9ms/step - loss: 0.0969\n",
            "Epoch 12/100\n",
            "235/235 [==============================] - 2s 10ms/step - loss: 0.0959\n",
            "Epoch 13/100\n",
            "235/235 [==============================] - 2s 9ms/step - loss: 0.0952\n",
            "Epoch 14/100\n",
            "235/235 [==============================] - 2s 9ms/step - loss: 0.0948\n",
            "Epoch 15/100\n",
            "235/235 [==============================] - 3s 15ms/step - loss: 0.0944\n",
            "Epoch 16/100\n",
            "235/235 [==============================] - 3s 11ms/step - loss: 0.0942\n",
            "Epoch 17/100\n",
            "235/235 [==============================] - 2s 10ms/step - loss: 0.0940\n",
            "Epoch 18/100\n",
            "235/235 [==============================] - 2s 10ms/step - loss: 0.0939\n",
            "Epoch 19/100\n",
            "235/235 [==============================] - 2s 9ms/step - loss: 0.0937\n",
            "Epoch 20/100\n",
            "235/235 [==============================] - 3s 12ms/step - loss: 0.0936\n",
            "Epoch 21/100\n",
            "235/235 [==============================] - 3s 14ms/step - loss: 0.0935\n",
            "Epoch 22/100\n",
            "235/235 [==============================] - 2s 9ms/step - loss: 0.0934\n",
            "Epoch 23/100\n",
            "235/235 [==============================] - 2s 9ms/step - loss: 0.0934\n",
            "Epoch 24/100\n",
            "235/235 [==============================] - 2s 10ms/step - loss: 0.0933\n",
            "Epoch 25/100\n",
            "235/235 [==============================] - 2s 9ms/step - loss: 0.0932\n",
            "Epoch 26/100\n",
            "235/235 [==============================] - 4s 17ms/step - loss: 0.0932\n",
            "Epoch 27/100\n",
            "235/235 [==============================] - 3s 13ms/step - loss: 0.0931\n",
            "Epoch 28/100\n",
            "235/235 [==============================] - 2s 10ms/step - loss: 0.0931\n",
            "Epoch 29/100\n",
            "235/235 [==============================] - 2s 10ms/step - loss: 0.0930\n",
            "Epoch 30/100\n",
            "235/235 [==============================] - 3s 14ms/step - loss: 0.0930\n",
            "Epoch 31/100\n",
            "235/235 [==============================] - 3s 14ms/step - loss: 0.0930\n",
            "Epoch 32/100\n",
            "235/235 [==============================] - 3s 11ms/step - loss: 0.0929\n",
            "Epoch 33/100\n",
            "235/235 [==============================] - 2s 10ms/step - loss: 0.0929\n",
            "Epoch 34/100\n",
            "235/235 [==============================] - 2s 10ms/step - loss: 0.0929\n",
            "Epoch 35/100\n",
            "235/235 [==============================] - 2s 10ms/step - loss: 0.0929\n",
            "Epoch 36/100\n",
            "235/235 [==============================] - 3s 12ms/step - loss: 0.0928\n",
            "Epoch 37/100\n",
            "235/235 [==============================] - 3s 14ms/step - loss: 0.0928\n",
            "Epoch 38/100\n",
            "235/235 [==============================] - 2s 10ms/step - loss: 0.0928\n",
            "Epoch 39/100\n",
            "235/235 [==============================] - 2s 10ms/step - loss: 0.0928\n",
            "Epoch 40/100\n",
            "235/235 [==============================] - 3s 12ms/step - loss: 0.0928\n",
            "Epoch 41/100\n",
            "235/235 [==============================] - 3s 11ms/step - loss: 0.0927\n",
            "Epoch 42/100\n",
            "235/235 [==============================] - 4s 15ms/step - loss: 0.0927\n",
            "Epoch 43/100\n",
            "235/235 [==============================] - 2s 10ms/step - loss: 0.0927\n",
            "Epoch 44/100\n",
            "235/235 [==============================] - 2s 9ms/step - loss: 0.0927\n",
            "Epoch 45/100\n",
            "235/235 [==============================] - 2s 9ms/step - loss: 0.0927\n",
            "Epoch 46/100\n",
            "235/235 [==============================] - 2s 10ms/step - loss: 0.0927\n",
            "Epoch 47/100\n",
            "235/235 [==============================] - 3s 12ms/step - loss: 0.0927\n",
            "Epoch 48/100\n",
            "235/235 [==============================] - 3s 13ms/step - loss: 0.0926\n",
            "Epoch 49/100\n",
            "235/235 [==============================] - 2s 9ms/step - loss: 0.0926\n",
            "Epoch 50/100\n",
            "235/235 [==============================] - 2s 10ms/step - loss: 0.0926\n",
            "Epoch 51/100\n",
            "235/235 [==============================] - 2s 10ms/step - loss: 0.0926\n",
            "Epoch 52/100\n",
            "235/235 [==============================] - 2s 10ms/step - loss: 0.0926\n",
            "Epoch 53/100\n",
            "235/235 [==============================] - 3s 15ms/step - loss: 0.0926\n",
            "Epoch 54/100\n",
            "235/235 [==============================] - 3s 12ms/step - loss: 0.0926\n",
            "Epoch 55/100\n",
            "235/235 [==============================] - 2s 10ms/step - loss: 0.0926\n",
            "Epoch 56/100\n",
            "235/235 [==============================] - 2s 10ms/step - loss: 0.0926\n",
            "Epoch 57/100\n",
            "235/235 [==============================] - 2s 9ms/step - loss: 0.0926\n",
            "Epoch 58/100\n",
            "235/235 [==============================] - 3s 11ms/step - loss: 0.0926\n",
            "Epoch 59/100\n",
            "235/235 [==============================] - 3s 14ms/step - loss: 0.0925\n",
            "Epoch 60/100\n",
            "235/235 [==============================] - 2s 10ms/step - loss: 0.0925\n",
            "Epoch 61/100\n",
            "235/235 [==============================] - 2s 10ms/step - loss: 0.0925\n",
            "Epoch 62/100\n",
            "235/235 [==============================] - 2s 10ms/step - loss: 0.0925\n",
            "Epoch 63/100\n",
            "235/235 [==============================] - 2s 10ms/step - loss: 0.0925\n",
            "Epoch 64/100\n",
            "235/235 [==============================] - 3s 15ms/step - loss: 0.0925\n",
            "Epoch 65/100\n",
            "235/235 [==============================] - 3s 11ms/step - loss: 0.0925\n",
            "Epoch 66/100\n",
            "235/235 [==============================] - 2s 10ms/step - loss: 0.0925\n",
            "Epoch 67/100\n",
            "235/235 [==============================] - 2s 10ms/step - loss: 0.0925\n",
            "Epoch 68/100\n",
            "235/235 [==============================] - 2s 10ms/step - loss: 0.0925\n",
            "Epoch 69/100\n",
            "235/235 [==============================] - 3s 13ms/step - loss: 0.0925\n",
            "Epoch 70/100\n",
            "235/235 [==============================] - 3s 14ms/step - loss: 0.0925\n",
            "Epoch 71/100\n",
            "235/235 [==============================] - 2s 10ms/step - loss: 0.0925\n",
            "Epoch 72/100\n",
            "235/235 [==============================] - 2s 10ms/step - loss: 0.0925\n",
            "Epoch 73/100\n",
            "235/235 [==============================] - 2s 10ms/step - loss: 0.0925\n",
            "Epoch 74/100\n",
            "235/235 [==============================] - 2s 10ms/step - loss: 0.0924\n",
            "Epoch 75/100\n",
            "235/235 [==============================] - 3s 15ms/step - loss: 0.0924\n",
            "Epoch 76/100\n",
            "235/235 [==============================] - 3s 11ms/step - loss: 0.0924\n",
            "Epoch 77/100\n",
            "235/235 [==============================] - 2s 10ms/step - loss: 0.0924\n",
            "Epoch 78/100\n",
            "235/235 [==============================] - 2s 10ms/step - loss: 0.0924\n",
            "Epoch 79/100\n",
            "235/235 [==============================] - 2s 10ms/step - loss: 0.0924\n",
            "Epoch 80/100\n",
            "235/235 [==============================] - 3s 13ms/step - loss: 0.0924\n",
            "Epoch 81/100\n",
            "235/235 [==============================] - 3s 13ms/step - loss: 0.0924\n",
            "Epoch 82/100\n",
            "235/235 [==============================] - 2s 10ms/step - loss: 0.0924\n",
            "Epoch 83/100\n",
            "235/235 [==============================] - 2s 10ms/step - loss: 0.0924\n",
            "Epoch 84/100\n",
            "235/235 [==============================] - 2s 10ms/step - loss: 0.0924\n",
            "Epoch 85/100\n",
            "235/235 [==============================] - 3s 11ms/step - loss: 0.0924\n",
            "Epoch 86/100\n",
            "235/235 [==============================] - 4s 15ms/step - loss: 0.0924\n",
            "Epoch 87/100\n",
            "235/235 [==============================] - 4s 15ms/step - loss: 0.0924\n",
            "Epoch 88/100\n",
            "235/235 [==============================] - 3s 12ms/step - loss: 0.0924\n",
            "Epoch 89/100\n",
            "235/235 [==============================] - 2s 10ms/step - loss: 0.0923\n",
            "Epoch 90/100\n",
            "235/235 [==============================] - 3s 11ms/step - loss: 0.0924\n",
            "Epoch 91/100\n",
            "235/235 [==============================] - 4s 15ms/step - loss: 0.0923\n",
            "Epoch 92/100\n",
            "235/235 [==============================] - 2s 10ms/step - loss: 0.0923\n",
            "Epoch 93/100\n",
            "235/235 [==============================] - 2s 10ms/step - loss: 0.0923\n",
            "Epoch 94/100\n",
            "235/235 [==============================] - 2s 10ms/step - loss: 0.0923\n",
            "Epoch 95/100\n",
            "235/235 [==============================] - 2s 10ms/step - loss: 0.0923\n",
            "Epoch 96/100\n",
            "235/235 [==============================] - 3s 15ms/step - loss: 0.0923\n",
            "Epoch 97/100\n",
            "235/235 [==============================] - 3s 12ms/step - loss: 0.0923\n",
            "Epoch 98/100\n",
            "235/235 [==============================] - 2s 11ms/step - loss: 0.0923\n",
            "Epoch 99/100\n",
            "235/235 [==============================] - 3s 11ms/step - loss: 0.0923\n",
            "Epoch 100/100\n",
            "235/235 [==============================] - 3s 11ms/step - loss: 0.0923\n"
          ]
        },
        {
          "output_type": "execute_result",
          "data": {
            "text/plain": [
              "<keras.src.callbacks.History at 0x7a503d354f10>"
            ]
          },
          "metadata": {},
          "execution_count": 7
        }
      ]
    },
    {
      "cell_type": "code",
      "source": [
        "test_normal_decoded = autoencoder.predict(X_test)\n",
        "mse_normal = mean_squared_error(X_test, test_normal_decoded)\n",
        "print(\"MSE on Normal Images:\", mse_normal)"
      ],
      "metadata": {
        "colab": {
          "base_uri": "https://localhost:8080/"
        },
        "id": "mamFFKlwAxG2",
        "outputId": "3666505a-69b8-47a5-dc2a-a23da77222af"
      },
      "execution_count": 8,
      "outputs": [
        {
          "output_type": "stream",
          "name": "stdout",
          "text": [
            "313/313 [==============================] - 1s 2ms/step\n",
            "MSE on Normal Images: 0.009533311\n"
          ]
        }
      ]
    },
    {
      "cell_type": "code",
      "source": [
        "test_anomalis_decoded = autoencoder.predict(X_test_noisy)\n",
        "mse_anomalis = mean_squared_error(X_test_noisy, test_anomalis_decoded)\n",
        "print(\"MSE on Anomalis Images:\", mse_anomalis)"
      ],
      "metadata": {
        "colab": {
          "base_uri": "https://localhost:8080/"
        },
        "id": "V_K4wr5sB8sd",
        "outputId": "3cff3eee-ebb2-412e-bafa-c3bafe308a9a"
      },
      "execution_count": 10,
      "outputs": [
        {
          "output_type": "stream",
          "name": "stdout",
          "text": [
            "313/313 [==============================] - 2s 5ms/step\n",
            "MSE on Anomalis Images: 0.16854873172674517\n"
          ]
        }
      ]
    },
    {
      "cell_type": "code",
      "source": [
        "print(f'Diferença do MSE: {mse_anomalis - mse_normal}')"
      ],
      "metadata": {
        "colab": {
          "base_uri": "https://localhost:8080/"
        },
        "id": "QW5xRDmmB_8-",
        "outputId": "c887333f-3729-49b1-d8e8-b738d52c69e0"
      },
      "execution_count": 11,
      "outputs": [
        {
          "output_type": "stream",
          "name": "stdout",
          "text": [
            "Diferença do MSE: 0.15901542048637013\n"
          ]
        }
      ]
    },
    {
      "cell_type": "code",
      "source": [],
      "metadata": {
        "id": "jvbbsd1nChjN"
      },
      "execution_count": null,
      "outputs": []
    }
  ]
}